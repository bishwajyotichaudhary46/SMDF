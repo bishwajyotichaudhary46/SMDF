{
 "cells": [
  {
   "cell_type": "code",
   "execution_count": 1,
   "metadata": {},
   "outputs": [],
   "source": [
    "import os"
   ]
  },
  {
   "cell_type": "code",
   "execution_count": 2,
   "metadata": {},
   "outputs": [
    {
     "data": {
      "text/plain": [
       "'d:\\\\Full Stack Data Science\\\\Time Series Analysis\\\\MAJOR PROJECT\\\\SMDF\\\\research'"
      ]
     },
     "execution_count": 2,
     "metadata": {},
     "output_type": "execute_result"
    }
   ],
   "source": [
    "%pwd"
   ]
  },
  {
   "cell_type": "code",
   "execution_count": 3,
   "metadata": {},
   "outputs": [
    {
     "name": "stdout",
     "output_type": "stream",
     "text": [
      "d:\\Full Stack Data Science\\Time Series Analysis\\MAJOR PROJECT\\SMDF\n"
     ]
    }
   ],
   "source": [
    "cd .."
   ]
  },
  {
   "cell_type": "code",
   "execution_count": 5,
   "metadata": {},
   "outputs": [
    {
     "data": {
      "text/plain": [
       "'d:\\\\Full Stack Data Science\\\\Time Series Analysis\\\\MAJOR PROJECT\\\\SMDF'"
      ]
     },
     "execution_count": 5,
     "metadata": {},
     "output_type": "execute_result"
    }
   ],
   "source": [
    "%pwd"
   ]
  },
  {
   "cell_type": "code",
   "execution_count": 7,
   "metadata": {},
   "outputs": [],
   "source": [
    "from dataclasses import dataclass\n",
    "from pathlib import Path\n",
    "\n",
    "\n",
    "@dataclass(frozen=True)\n",
    "class DataSplitingConfig:\n",
    "    root_dir: Path\n",
    "    data_path: Path"
   ]
  },
  {
   "cell_type": "code",
   "execution_count": 6,
   "metadata": {},
   "outputs": [],
   "source": [
    "from SMDF.constants import *\n",
    "from SMDF.utils.common import read_yaml, create_directories"
   ]
  },
  {
   "cell_type": "code",
   "execution_count": 15,
   "metadata": {},
   "outputs": [],
   "source": [
    "class ConfigurationManager:\n",
    "    def __init__(\n",
    "        self,\n",
    "        config_filepath = CONFIG_FILE_PATH,\n",
    "        params_filepath = PARAMS_FILE_PATH,\n",
    "        schema_filepath = SCHEMA_FILE_PATH):\n",
    "\n",
    "        self.config = read_yaml(config_filepath)\n",
    "        self.params = read_yaml(params_filepath)\n",
    "        self.schema = read_yaml(schema_filepath)\n",
    "\n",
    "        create_directories([self.config.artifacts_root])\n",
    "\n",
    "    \n",
    "    def get_data_spliting_config(self) -> DataSplitingConfig:\n",
    "        config = self.config.data_spliting\n",
    "\n",
    "        create_directories([config.root_dir])\n",
    "\n",
    "        data_spliting_config = DataSplitingConfig(\n",
    "            root_dir=config.root_dir,\n",
    "            data_path=config.data_path,\n",
    "        )\n",
    "\n",
    "        return data_spliting_config"
   ]
  },
  {
   "cell_type": "code",
   "execution_count": 16,
   "metadata": {},
   "outputs": [],
   "source": [
    "from sklearn.model_selection import train_test_split\n",
    "import pandas as pd\n",
    "from SMDF.logging import logger"
   ]
  },
  {
   "cell_type": "code",
   "execution_count": 32,
   "metadata": {},
   "outputs": [],
   "source": [
    "class DataSpliting:\n",
    "    def __init__(self, config=DataSplitingConfig):\n",
    "        self.config = config\n",
    "    \n",
    "    def get_data_spliting(self):\n",
    "        data = pd.read_csv(self.config.data_path)\n",
    "        length = data.shape[0]\n",
    "        #logger.info(length)\n",
    "        #logger.info((data[:int(length*0.8)]).shape)\n",
    "        #logger.info(data.head())\n",
    "        train = data[:int(length*0.8)]\n",
    "        test = data[int(length*0.8):]\n",
    "        logger.info(train.shape)\n",
    "        logger.info(test.shape)\n",
    "\n",
    "        train = train.to_csv(\"artifacts/data_spliting/train.csv\",index=False)\n",
    "        test = test.to_csv(\"artifacts/data_spliting/test.csv\", index=False)\n",
    "\n",
    "        logger.info(\"Suceess fully splited\")\n",
    "\n",
    "        return train, test\n",
    "\n",
    "\n",
    "\n",
    "        \n",
    "\n"
   ]
  },
  {
   "cell_type": "code",
   "execution_count": 33,
   "metadata": {},
   "outputs": [
    {
     "name": "stdout",
     "output_type": "stream",
     "text": [
      "[2023-06-29 10:53:32,308: INFO: common: yaml file: config\\config.yaml loaded successfully]\n",
      "[2023-06-29 10:53:32,312: INFO: common: yaml file: params.yaml loaded successfully]\n",
      "[2023-06-29 10:53:32,318: INFO: common: yaml file: schema.yaml loaded successfully]\n",
      "[2023-06-29 10:53:32,322: INFO: common: created directory at: artifacts]\n",
      "[2023-06-29 10:53:32,325: INFO: common: created directory at: artifacts/data_spliting]\n",
      "[2023-06-29 10:53:32,338: INFO: 1972395135: (1684, 13)]\n",
      "[2023-06-29 10:53:32,340: INFO: 1972395135: (422, 13)]\n",
      "[2023-06-29 10:53:32,368: INFO: 1972395135: Suceess fully splited]\n"
     ]
    }
   ],
   "source": [
    "try:\n",
    "    config = ConfigurationManager()\n",
    "    data_spliting_config = config.get_data_spliting_config()\n",
    "    data_spliting = DataSpliting(config=data_spliting_config)\n",
    "    data_spliting.get_data_spliting()\n",
    "except Exception as e:\n",
    "    raise e"
   ]
  },
  {
   "cell_type": "code",
   "execution_count": null,
   "metadata": {},
   "outputs": [],
   "source": []
  }
 ],
 "metadata": {
  "kernelspec": {
   "display_name": "Python 3",
   "language": "python",
   "name": "python3"
  },
  "language_info": {
   "codemirror_mode": {
    "name": "ipython",
    "version": 3
   },
   "file_extension": ".py",
   "mimetype": "text/x-python",
   "name": "python",
   "nbconvert_exporter": "python",
   "pygments_lexer": "ipython3",
   "version": "3.8.0"
  },
  "orig_nbformat": 4
 },
 "nbformat": 4,
 "nbformat_minor": 2
}
