{
 "cells": [
  {
   "cell_type": "code",
   "execution_count": 2,
   "metadata": {},
   "outputs": [],
   "source": [
    "import os"
   ]
  },
  {
   "cell_type": "code",
   "execution_count": 3,
   "metadata": {},
   "outputs": [
    {
     "name": "stdout",
     "output_type": "stream",
     "text": [
      "d:\\Full Stack Data Science\\Time Series Analysis\\MAJOR PROJECT\\SMDF\n"
     ]
    }
   ],
   "source": [
    "cd .."
   ]
  },
  {
   "cell_type": "code",
   "execution_count": 4,
   "metadata": {},
   "outputs": [
    {
     "data": {
      "text/plain": [
       "'d:\\\\Full Stack Data Science\\\\Time Series Analysis\\\\MAJOR PROJECT\\\\SMDF'"
      ]
     },
     "execution_count": 4,
     "metadata": {},
     "output_type": "execute_result"
    }
   ],
   "source": [
    "%pwd"
   ]
  },
  {
   "cell_type": "code",
   "execution_count": 21,
   "metadata": {},
   "outputs": [],
   "source": [
    "from dataclasses import dataclass\n",
    "from pathlib import Path\n",
    "\n",
    "\n",
    "@dataclass(frozen=True)\n",
    "class ModelEvaluationConfig:\n",
    "    root_dir: Path\n",
    "    train_data_path: Path\n",
    "    test_data_path: Path\n",
    "    M01AB: Path\n",
    "    M01AE: Path\n",
    "    N02BA: Path\n",
    "    N02BE: Path\n",
    "    N05B: Path\n",
    "    N05C: Path\n",
    "    R03: Path\n",
    "    R06: Path\n",
    "    scaler: Path\n",
    "    "
   ]
  },
  {
   "cell_type": "code",
   "execution_count": 6,
   "metadata": {},
   "outputs": [],
   "source": [
    "from SMDF.constants import *\n",
    "from SMDF.utils.common import read_yaml, create_directories"
   ]
  },
  {
   "cell_type": "code",
   "execution_count": 22,
   "metadata": {},
   "outputs": [],
   "source": [
    "class ConfigurationManager:\n",
    "    def __init__(\n",
    "        self,\n",
    "        config_filepath = CONFIG_FILE_PATH,\n",
    "        params_filepath = PARAMS_FILE_PATH,\n",
    "        schema_filepath = SCHEMA_FILE_PATH):\n",
    "\n",
    "        self.config = read_yaml(config_filepath)\n",
    "        self.params = read_yaml(params_filepath)\n",
    "        self.schema = read_yaml(schema_filepath)\n",
    "\n",
    "        create_directories([self.config.artifacts_root])\n",
    "\n",
    "    \n",
    "    def get_model_evaluation_config(self) -> ModelEvaluationConfig:\n",
    "        config = self.config.model_evaluation\n",
    "\n",
    "        create_directories([config.root_dir])\n",
    "\n",
    "        model_eval_config = ModelEvaluationConfig(\n",
    "            root_dir=config.root_dir,\n",
    "            train_data_path = config.train_data_path,\n",
    "            test_data_path = config.test_data_path,\n",
    "            M01AB = config.M01AB,\n",
    "            M01AE = config.M01AE,\n",
    "            N02BA = config.N02BA,\n",
    "            N02BE = config.N02BE,\n",
    "            N05B = config.N05B,\n",
    "            N05C = config.N05C,\n",
    "            R03 = config.R03,\n",
    "            R06 = config.R06,\n",
    "            scaler = config.scaler,\n",
    "            \n",
    "\n",
    "            \n",
    "        )\n",
    "\n",
    "        return model_eval_config"
   ]
  },
  {
   "cell_type": "code",
   "execution_count": 23,
   "metadata": {},
   "outputs": [],
   "source": [
    "\n",
    "import pandas as pd\n",
    "from sklearn.metrics import mean_squared_error, mean_absolute_error, r2_score\n",
    "\n",
    "import numpy as np\n",
    "\n",
    "# Deep learning\n",
    "from sklearn.preprocessing import StandardScaler\n",
    "from SMDF.logging import logger\n",
    "import joblib\n",
    "\n"
   ]
  },
  {
   "cell_type": "code",
   "execution_count": 56,
   "metadata": {},
   "outputs": [],
   "source": [
    "import tensorflow as tf\n",
    "import h5py"
   ]
  },
  {
   "cell_type": "code",
   "execution_count": 67,
   "metadata": {},
   "outputs": [],
   "source": [
    "class ModelEvaluation:\n",
    "    def __init__(self, config: ModelEvaluationConfig):\n",
    "        self.config = config\n",
    "\n",
    "\n",
    "    def noramalizing_data(self,column_name):\n",
    "\n",
    "        scaler = StandardScaler()\n",
    "        train = pd.read_csv(self.config.train_data_path)\n",
    "        test = pd.read_csv(self.config.test_data_path)\n",
    "        train.drop(columns=[\"datum\",\"Year\",\"Month\",\"Hour\",\"Weekday Name\"],inplace=True)\n",
    "        test.drop(columns=[\"datum\",\"Year\",\"Month\",\"Hour\",\"Weekday Name\"],inplace=True)\n",
    "\n",
    "        \n",
    "        \n",
    "        #train[columns] = train[columns]\n",
    "        #logger.info(train.head())\n",
    "        train_data = scaler.fit_transform(train[column_name].values.reshape(-1,1))\n",
    "\n",
    "        test_data = scaler.transform(test[column_name].values.reshape(-1,1))\n",
    "\n",
    "        \n",
    "        logger.info(test_data.shape)\n",
    "        \n",
    "        #print(test_data)\n",
    "        return  test_data,train_data\n",
    "\n",
    "\n",
    "    \n",
    "    def eval_metrics(self,actual, pred):\n",
    "        rmse = np.sqrt(mean_squared_error(actual, pred))\n",
    "        mae = mean_absolute_error(actual, pred)\n",
    "        r2 = r2_score(actual, pred)\n",
    "        return rmse, mae, r2\n",
    "    \n",
    "    def test_spliting(self,train, test):\n",
    "        window_size = 60\n",
    "        # Concatenate train data to test data\n",
    "        dataset_total = np.concatenate((train, test), axis = 0)\n",
    "        # Split test data and last window-size of train data\n",
    "        inputs = dataset_total[len(dataset_total) - len(test) - window_size:]\n",
    "        # Do the same thing for test data\n",
    "        X_test = []\n",
    "        y_test = []\n",
    "        for i in range(window_size, window_size+len(test)):\n",
    "            X_test.append(inputs[i-window_size:i,:]) \n",
    "            y_test.append(inputs[i,-1]) # consider Close as target\n",
    "        # Change them to numpy array\n",
    "        X_test, y_test = np.array(X_test).astype('float32'), np.array(y_test).reshape(-1, 1)\n",
    "        logger.info(X_test.shape)\n",
    "    \n",
    "        return X_test,y_test\n",
    "    \n",
    "    def eval(self,X_test,y_test,key):\n",
    "        \n",
    "        columns = [ self.config.M01AB,\n",
    "            self.config.M01AE,\n",
    "            self.config.N02BA,\n",
    "            self.config.N02BE,\n",
    "            self.config.N05B,\n",
    "            self.config.N05C,\n",
    "            self.config.R03,\n",
    "            self.config.R06]\n",
    "        \n",
    "        loaded_model = tf.saved_model.load(self.config.key)\n",
    "        model = loaded_model.signatures[\"serving_default\"]\n",
    "        test_predict = model(tf.constant(X_test))\n",
    "        predictions = test_predict['time_distributed_1'].numpy().squeeze()\n",
    "        \n",
    "        #test_predict = test_predict.reshape(-1,1)\n",
    "        rmse, mae, r2 = self.eval_metrics(y_test.squeeze(),predictions)\n",
    "        logger.info(f\"RMSE : {rmse}, MAE: {mae}, r2: {r2} \")\n",
    "        return predictions\n",
    "        \"\"\"\n",
    "        test_predict = test_predict_5.reshape(-1)  # Reshape to 1-dimensional array\n",
    "        print('RMSE:', np.sqrt(mean_squared_error(y_test, test_predict_5)))\n",
    "\n",
    "        plt.figure(figsize=(20, 10))\n",
    "        plt.grid(b=True, which='major', axis='both')\n",
    "        plt.title('Testing prediction result with Hybrid Model', fontsize=30)\n",
    "        plt.plot(test_data.index, y_test, linewidth=4, label='True', color='blue')\n",
    "        plt.plot(test_data.index, test_predict_5, linewidth=4, color='red', label='Predicted')\n",
    "        plt.xticks(fontsize=20)\n",
    "        plt.yticks(fontsize=20)\n",
    "        plt.legend(fontsize=25, shadow=True, facecolor='cyan', edgecolor='k')\n",
    "        plt.show()\n",
    "\n",
    "        \"\"\"\n"
   ]
  },
  {
   "cell_type": "code",
   "execution_count": 68,
   "metadata": {},
   "outputs": [
    {
     "name": "stdout",
     "output_type": "stream",
     "text": [
      "[2023-07-01 21:42:43,177: INFO: common: yaml file: config\\config.yaml loaded successfully]\n",
      "[2023-07-01 21:42:43,182: INFO: common: yaml file: params.yaml loaded successfully]\n",
      "[2023-07-01 21:42:43,190: INFO: common: yaml file: schema.yaml loaded successfully]\n",
      "[2023-07-01 21:42:43,193: INFO: common: created directory at: artifacts]\n",
      "[2023-07-01 21:42:43,195: INFO: common: created directory at: artifacts/model_evaluation]\n",
      "[2023-07-01 21:42:43,216: INFO: 2923192475: (422, 1)]\n",
      "[2023-07-01 21:42:43,222: INFO: 2923192475: (1684, 60, 1)]\n"
     ]
    },
    {
     "name": "stdout",
     "output_type": "stream",
     "text": [
      "[2023-07-01 21:42:45,580: INFO: 2923192475: RMSE : 0.19738964905929002, MAE: 0.05506249226056866, r2: 0.9610373264442503 ]\n"
     ]
    }
   ],
   "source": [
    "try:\n",
    "    config = ConfigurationManager()\n",
    "    config = config.get_model_evaluation_config()\n",
    "    eval = ModelEvaluation(config=config)\n",
    "    \n",
    "    columns = [\"M01AB\",\n",
    "            \"M01AE\",\n",
    "            \"N02BA\",\n",
    "            \"N02BE\",\n",
    "            \"N05B\",\n",
    "            \"N05C\",\n",
    "            \"R03\",\n",
    "            \"R06\"]\n",
    "\n",
    "    for key,val in enumerate(columns):\n",
    "        train,test = eval.noramalizing_data(val)\n",
    "        X_test, y_test = eval.test_spliting(train,test)\n",
    "        logger.info(f\"Evaluation Metrics of {val}\")\n",
    "        eval.eval(X_test,y_test,key)\n",
    "        \n",
    "\n",
    "except Exception as e:\n",
    "    raise e"
   ]
  },
  {
   "cell_type": "code",
   "execution_count": 20,
   "metadata": {},
   "outputs": [
    {
     "data": {
      "text/plain": [
       "'artifacts/data_spliting/train.csv'"
      ]
     },
     "execution_count": 20,
     "metadata": {},
     "output_type": "execute_result"
    }
   ],
   "source": [
    "config.train_data_path"
   ]
  },
  {
   "cell_type": "code",
   "execution_count": null,
   "metadata": {},
   "outputs": [],
   "source": []
  },
  {
   "cell_type": "code",
   "execution_count": null,
   "metadata": {},
   "outputs": [],
   "source": []
  }
 ],
 "metadata": {
  "kernelspec": {
   "display_name": "Python 3",
   "language": "python",
   "name": "python3"
  },
  "language_info": {
   "codemirror_mode": {
    "name": "ipython",
    "version": 3
   },
   "file_extension": ".py",
   "mimetype": "text/x-python",
   "name": "python",
   "nbconvert_exporter": "python",
   "pygments_lexer": "ipython3",
   "version": "3.8.0"
  },
  "orig_nbformat": 4
 },
 "nbformat": 4,
 "nbformat_minor": 2
}
